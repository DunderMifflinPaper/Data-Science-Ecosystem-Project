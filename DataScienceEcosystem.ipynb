{
 "cells": [
  {
   "cell_type": "markdown",
   "id": "4f397214",
   "metadata": {},
   "source": [
    "# Data Science Tools and Ecosystem"
   ]
  },
  {
   "cell_type": "markdown",
   "id": "c11330e7",
   "metadata": {},
   "source": [
    "This Notebook contains a summary of Data Science Tools and Ecosystem."
   ]
  },
  {
   "cell_type": "markdown",
   "id": "04f2304a",
   "metadata": {},
   "source": [
    "**Objectives:**\n",
    "- List Data Science languages\n",
    "- List Data Science Libraries\n",
    "- List Data Science Tools in a table format\n",
    "- Evaluate Arithmetic Expressions in Python"
   ]
  },
  {
   "cell_type": "markdown",
   "id": "63968d02",
   "metadata": {},
   "source": [
    "The most popular languages that Data Scientists use are: \n",
    "1. Python\n",
    "2. R\n",
    "3. SQL\n",
    "4. Scala\n",
    "5. Java\n",
    "6. C++\n",
    "7. Julia"
   ]
  },
  {
   "cell_type": "markdown",
   "id": "674bb460",
   "metadata": {},
   "source": [
    "Some of the commonly used libraries used by Data Scientists include:\n",
    "1. Pandas\n",
    "2. Numpy\n",
    "3. Matplotlib\n",
    "4. Seaborn\n",
    "5. Scikit-learn "
   ]
  },
  {
   "cell_type": "markdown",
   "id": "b3fbb3cf",
   "metadata": {},
   "source": [
    "|Data Science Tools|\n",
    "|------|\n",
    "|MySQL|\n",
    "|MongoDB|\n",
    "|Apache CouchDB|\n",
    "|Hadoop File System|"
   ]
  },
  {
   "cell_type": "markdown",
   "id": "6d890a61",
   "metadata": {},
   "source": [
    "### Below are a few examples of evaluating arithmetic expressions in Python"
   ]
  },
  {
   "cell_type": "code",
   "execution_count": 1,
   "id": "6c61071e",
   "metadata": {},
   "outputs": [
    {
     "data": {
      "text/plain": [
       "17"
      ]
     },
     "execution_count": 1,
     "metadata": {},
     "output_type": "execute_result"
    }
   ],
   "source": [
    "# This a simple arithmetic expression to mutiply then add integers\n",
    "(3*4)+5"
   ]
  },
  {
   "cell_type": "code",
   "execution_count": 10,
   "id": "1ef35340",
   "metadata": {},
   "outputs": [
    {
     "name": "stdout",
     "output_type": "stream",
     "text": [
      "3.3333333333333335\n"
     ]
    }
   ],
   "source": [
    "# This will convert 200 minutes to hours by diving by 60. H is the hours and M is the minutes.\n",
    "M=200\n",
    "H=M/60\n",
    "print(H)"
   ]
  },
  {
   "cell_type": "markdown",
   "id": "f364eadd",
   "metadata": {},
   "source": [
    "## Author\n",
    "Richie"
   ]
  },
  {
   "cell_type": "code",
   "execution_count": null,
   "id": "67027302",
   "metadata": {},
   "outputs": [],
   "source": []
  }
 ],
 "metadata": {
  "kernelspec": {
   "display_name": "Python 3 (ipykernel)",
   "language": "python",
   "name": "python3"
  },
  "language_info": {
   "codemirror_mode": {
    "name": "ipython",
    "version": 3
   },
   "file_extension": ".py",
   "mimetype": "text/x-python",
   "name": "python",
   "nbconvert_exporter": "python",
   "pygments_lexer": "ipython3",
   "version": "3.10.9"
  }
 },
 "nbformat": 4,
 "nbformat_minor": 5
}
